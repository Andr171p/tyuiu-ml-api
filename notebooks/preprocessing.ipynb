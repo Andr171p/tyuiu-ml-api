{
 "cells": [
  {
   "cell_type": "code",
   "execution_count": 22,
   "metadata": {},
   "outputs": [],
   "source": [
    "import pandas as pd\n",
    "import matplotlib.pyplot as plt\n",
    "from sklearn.preprocessing import (\n",
    "    LabelBinarizer, \n",
    "    LabelEncoder,\n",
    "    OneHotEncoder,\n",
    "    StandardScaler,\n",
    ")"
   ]
  },
  {
   "cell_type": "markdown",
   "metadata": {},
   "source": [
    "### Загрузка датасета:"
   ]
  },
  {
   "cell_type": "code",
   "execution_count": 23,
   "metadata": {},
   "outputs": [
    {
     "data": {
      "text/html": [
       "<div>\n",
       "<style scoped>\n",
       "    .dataframe tbody tr th:only-of-type {\n",
       "        vertical-align: middle;\n",
       "    }\n",
       "\n",
       "    .dataframe tbody tr th {\n",
       "        vertical-align: top;\n",
       "    }\n",
       "\n",
       "    .dataframe thead th {\n",
       "        text-align: right;\n",
       "    }\n",
       "</style>\n",
       "<table border=\"1\" class=\"dataframe\">\n",
       "  <thead>\n",
       "    <tr style=\"text-align: right;\">\n",
       "      <th></th>\n",
       "      <th>Год приёмной компании</th>\n",
       "      <th>Пол</th>\n",
       "      <th>Ср. балл док-та об образовании</th>\n",
       "      <th>Вид приема</th>\n",
       "      <th>Приоритет</th>\n",
       "      <th>Направление подготовки</th>\n",
       "      <th>Сумма баллов</th>\n",
       "      <th>Сумма баллов за индивидуальные достижения</th>\n",
       "      <th>Приказ о зачислении</th>\n",
       "    </tr>\n",
       "  </thead>\n",
       "  <tbody>\n",
       "    <tr>\n",
       "      <th>0</th>\n",
       "      <td>2019</td>\n",
       "      <td>М</td>\n",
       "      <td>4.563</td>\n",
       "      <td>По договору</td>\n",
       "      <td>2.0</td>\n",
       "      <td>38.03.06 Торговое дело</td>\n",
       "      <td>234.0</td>\n",
       "      <td>10.0</td>\n",
       "      <td>0</td>\n",
       "    </tr>\n",
       "    <tr>\n",
       "      <th>1</th>\n",
       "      <td>2019</td>\n",
       "      <td>М</td>\n",
       "      <td>4.563</td>\n",
       "      <td>По договору</td>\n",
       "      <td>3.0</td>\n",
       "      <td>38.03.07 Товароведение</td>\n",
       "      <td>234.0</td>\n",
       "      <td>10.0</td>\n",
       "      <td>0</td>\n",
       "    </tr>\n",
       "    <tr>\n",
       "      <th>2</th>\n",
       "      <td>2019</td>\n",
       "      <td>М</td>\n",
       "      <td>4.563</td>\n",
       "      <td>По договору</td>\n",
       "      <td>1.0</td>\n",
       "      <td>38.03.06 Торговое дело</td>\n",
       "      <td>234.0</td>\n",
       "      <td>10.0</td>\n",
       "      <td>0</td>\n",
       "    </tr>\n",
       "    <tr>\n",
       "      <th>3</th>\n",
       "      <td>2019</td>\n",
       "      <td>М</td>\n",
       "      <td>3.733</td>\n",
       "      <td>Общий конкурс</td>\n",
       "      <td>3.0</td>\n",
       "      <td>27.03.04 Управление в технических системах</td>\n",
       "      <td>173.0</td>\n",
       "      <td>0.0</td>\n",
       "      <td>0</td>\n",
       "    </tr>\n",
       "    <tr>\n",
       "      <th>4</th>\n",
       "      <td>2019</td>\n",
       "      <td>М</td>\n",
       "      <td>3.733</td>\n",
       "      <td>Общий конкурс</td>\n",
       "      <td>2.0</td>\n",
       "      <td>15.03.04 Автоматизация технологических процесс...</td>\n",
       "      <td>173.0</td>\n",
       "      <td>0.0</td>\n",
       "      <td>0</td>\n",
       "    </tr>\n",
       "  </tbody>\n",
       "</table>\n",
       "</div>"
      ],
      "text/plain": [
       "   Год приёмной компании  ... Приказ о зачислении\n",
       "0                   2019  ...                   0\n",
       "1                   2019  ...                   0\n",
       "2                   2019  ...                   0\n",
       "3                   2019  ...                   0\n",
       "4                   2019  ...                   0\n",
       "\n",
       "[5 rows x 9 columns]"
      ]
     },
     "execution_count": 23,
     "metadata": {},
     "output_type": "execute_result"
    }
   ],
   "source": [
    "df = pd.read_csv(\"ТИУ Бакалавриат Абитуриенты.csv\")\n",
    "df = df.drop(\"Unnamed: 0\", axis=1)\n",
    "df.head(5)"
   ]
  },
  {
   "cell_type": "markdown",
   "metadata": {},
   "source": [
    "### Подготовка и отчистка данных:"
   ]
  },
  {
   "cell_type": "code",
   "execution_count": 24,
   "metadata": {},
   "outputs": [
    {
     "data": {
      "text/plain": [
       "Вид приема\n",
       "Общий конкурс                               83770\n",
       "По договору                                 65335\n",
       "В рамках квоты лиц, имеющих особые права     1353\n",
       "Целевой прием                                 495\n",
       "Отдельная квота                               120\n",
       "Без ВИ в рамках КЦП                             6\n",
       "Name: count, dtype: int64"
      ]
     },
     "execution_count": 24,
     "metadata": {},
     "output_type": "execute_result"
    }
   ],
   "source": [
    "df[\"Вид приема\"].value_counts()"
   ]
  },
  {
   "cell_type": "markdown",
   "metadata": {},
   "source": [
    "Удаление абитуриентов которые поступали в не рамках общего конкурса:"
   ]
  },
  {
   "cell_type": "code",
   "execution_count": 25,
   "metadata": {},
   "outputs": [
    {
     "data": {
      "text/plain": [
       "Вид приема\n",
       "Общий конкурс    83770\n",
       "Name: count, dtype: int64"
      ]
     },
     "execution_count": 25,
     "metadata": {},
     "output_type": "execute_result"
    }
   ],
   "source": [
    "df = df[df[\"Вид приема\"] == \"Общий конкурс\"]\n",
    "df[\"Вид приема\"].value_counts()"
   ]
  },
  {
   "cell_type": "code",
   "execution_count": 26,
   "metadata": {},
   "outputs": [
    {
     "data": {
      "text/html": [
       "<div>\n",
       "<style scoped>\n",
       "    .dataframe tbody tr th:only-of-type {\n",
       "        vertical-align: middle;\n",
       "    }\n",
       "\n",
       "    .dataframe tbody tr th {\n",
       "        vertical-align: top;\n",
       "    }\n",
       "\n",
       "    .dataframe thead th {\n",
       "        text-align: right;\n",
       "    }\n",
       "</style>\n",
       "<table border=\"1\" class=\"dataframe\">\n",
       "  <thead>\n",
       "    <tr style=\"text-align: right;\">\n",
       "      <th></th>\n",
       "      <th>Год приёмной компании</th>\n",
       "      <th>Пол</th>\n",
       "      <th>Ср. балл док-та об образовании</th>\n",
       "      <th>Приоритет</th>\n",
       "      <th>Направление подготовки</th>\n",
       "      <th>Сумма баллов</th>\n",
       "      <th>Сумма баллов за индивидуальные достижения</th>\n",
       "      <th>Приказ о зачислении</th>\n",
       "    </tr>\n",
       "  </thead>\n",
       "  <tbody>\n",
       "    <tr>\n",
       "      <th>3</th>\n",
       "      <td>2019</td>\n",
       "      <td>М</td>\n",
       "      <td>3.733</td>\n",
       "      <td>3.0</td>\n",
       "      <td>27.03.04 Управление в технических системах</td>\n",
       "      <td>173.0</td>\n",
       "      <td>0.0</td>\n",
       "      <td>0</td>\n",
       "    </tr>\n",
       "    <tr>\n",
       "      <th>4</th>\n",
       "      <td>2019</td>\n",
       "      <td>М</td>\n",
       "      <td>3.733</td>\n",
       "      <td>2.0</td>\n",
       "      <td>15.03.04 Автоматизация технологических процесс...</td>\n",
       "      <td>173.0</td>\n",
       "      <td>0.0</td>\n",
       "      <td>0</td>\n",
       "    </tr>\n",
       "    <tr>\n",
       "      <th>7</th>\n",
       "      <td>2019</td>\n",
       "      <td>М</td>\n",
       "      <td>3.733</td>\n",
       "      <td>1.0</td>\n",
       "      <td>09.03.02 Информационные системы и технологии</td>\n",
       "      <td>173.0</td>\n",
       "      <td>0.0</td>\n",
       "      <td>0</td>\n",
       "    </tr>\n",
       "  </tbody>\n",
       "</table>\n",
       "</div>"
      ],
      "text/plain": [
       "   Год приёмной компании  ... Приказ о зачислении\n",
       "3                   2019  ...                   0\n",
       "4                   2019  ...                   0\n",
       "7                   2019  ...                   0\n",
       "\n",
       "[3 rows x 8 columns]"
      ]
     },
     "execution_count": 26,
     "metadata": {},
     "output_type": "execute_result"
    }
   ],
   "source": [
    "df = df.drop(\"Вид приема\", axis=1)\n",
    "df.head(3)"
   ]
  },
  {
   "cell_type": "code",
   "execution_count": 27,
   "metadata": {},
   "outputs": [
    {
     "data": {
      "text/plain": [
       "Приказ о зачислении\n",
       "0    73298\n",
       "1    10472\n",
       "Name: count, dtype: int64"
      ]
     },
     "execution_count": 27,
     "metadata": {},
     "output_type": "execute_result"
    }
   ],
   "source": [
    "df[\"Приказ о зачислении\"].value_counts()"
   ]
  },
  {
   "cell_type": "code",
   "execution_count": 28,
   "metadata": {},
   "outputs": [
    {
     "data": {
      "text/html": [
       "<div>\n",
       "<style scoped>\n",
       "    .dataframe tbody tr th:only-of-type {\n",
       "        vertical-align: middle;\n",
       "    }\n",
       "\n",
       "    .dataframe tbody tr th {\n",
       "        vertical-align: top;\n",
       "    }\n",
       "\n",
       "    .dataframe thead th {\n",
       "        text-align: right;\n",
       "    }\n",
       "</style>\n",
       "<table border=\"1\" class=\"dataframe\">\n",
       "  <thead>\n",
       "    <tr style=\"text-align: right;\">\n",
       "      <th></th>\n",
       "      <th>Год приёмной компании</th>\n",
       "      <th>Пол</th>\n",
       "      <th>Ср. балл док-та об образовании</th>\n",
       "      <th>Приоритет</th>\n",
       "      <th>Направление подготовки</th>\n",
       "      <th>Сумма баллов</th>\n",
       "      <th>Приказ о зачислении</th>\n",
       "    </tr>\n",
       "  </thead>\n",
       "  <tbody>\n",
       "    <tr>\n",
       "      <th>3</th>\n",
       "      <td>2019</td>\n",
       "      <td>М</td>\n",
       "      <td>3.733</td>\n",
       "      <td>3.0</td>\n",
       "      <td>27.03.04 Управление в технических системах</td>\n",
       "      <td>173.0</td>\n",
       "      <td>0</td>\n",
       "    </tr>\n",
       "    <tr>\n",
       "      <th>4</th>\n",
       "      <td>2019</td>\n",
       "      <td>М</td>\n",
       "      <td>3.733</td>\n",
       "      <td>2.0</td>\n",
       "      <td>15.03.04 Автоматизация технологических процесс...</td>\n",
       "      <td>173.0</td>\n",
       "      <td>0</td>\n",
       "    </tr>\n",
       "    <tr>\n",
       "      <th>7</th>\n",
       "      <td>2019</td>\n",
       "      <td>М</td>\n",
       "      <td>3.733</td>\n",
       "      <td>1.0</td>\n",
       "      <td>09.03.02 Информационные системы и технологии</td>\n",
       "      <td>173.0</td>\n",
       "      <td>0</td>\n",
       "    </tr>\n",
       "    <tr>\n",
       "      <th>12</th>\n",
       "      <td>2019</td>\n",
       "      <td>Ж</td>\n",
       "      <td>3.643</td>\n",
       "      <td>3.0</td>\n",
       "      <td>21.03.02 Землеустройство и кадастры</td>\n",
       "      <td>161.0</td>\n",
       "      <td>0</td>\n",
       "    </tr>\n",
       "    <tr>\n",
       "      <th>14</th>\n",
       "      <td>2019</td>\n",
       "      <td>Ж</td>\n",
       "      <td>3.643</td>\n",
       "      <td>4.0</td>\n",
       "      <td>20.03.01 Техносферная безопасность</td>\n",
       "      <td>161.0</td>\n",
       "      <td>0</td>\n",
       "    </tr>\n",
       "  </tbody>\n",
       "</table>\n",
       "</div>"
      ],
      "text/plain": [
       "    Год приёмной компании Пол  ...  Сумма баллов  Приказ о зачислении\n",
       "3                    2019   М  ...         173.0                    0\n",
       "4                    2019   М  ...         173.0                    0\n",
       "7                    2019   М  ...         173.0                    0\n",
       "12                   2019   Ж  ...         161.0                    0\n",
       "14                   2019   Ж  ...         161.0                    0\n",
       "\n",
       "[5 rows x 7 columns]"
      ]
     },
     "execution_count": 28,
     "metadata": {},
     "output_type": "execute_result"
    }
   ],
   "source": [
    "df[\"Сумма баллов\"] += df[\"Сумма баллов за индивидуальные достижения\"]\n",
    "df = df.drop(\"Сумма баллов за индивидуальные достижения\", axis=1)\n",
    "df.head(5)"
   ]
  }
 ],
 "metadata": {
  "kernelspec": {
   "display_name": "Python 3",
   "language": "python",
   "name": "python3"
  },
  "language_info": {
   "codemirror_mode": {
    "name": "ipython",
    "version": 3
   },
   "file_extension": ".py",
   "mimetype": "text/x-python",
   "name": "python",
   "nbconvert_exporter": "python",
   "pygments_lexer": "ipython3",
   "version": "3.11.3"
  }
 },
 "nbformat": 4,
 "nbformat_minor": 2
}
